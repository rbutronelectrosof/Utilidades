{
  "nbformat": 4,
  "nbformat_minor": 0,
  "metadata": {
    "colab": {
      "provenance": [],
      "authorship_tag": "ABX9TyPKqBzRpcZRqO61czeZb4rn",
      "include_colab_link": true
    },
    "kernelspec": {
      "name": "python3",
      "display_name": "Python 3"
    },
    "language_info": {
      "name": "python"
    },
    "widgets": {
      "application/vnd.jupyter.widget-state+json": {
        "6d44e808761645d0bca0152ed96138e1": {
          "model_module": "@jupyter-widgets/controls",
          "model_name": "HBoxModel",
          "model_module_version": "1.5.0",
          "state": {
            "_dom_classes": [],
            "_model_module": "@jupyter-widgets/controls",
            "_model_module_version": "1.5.0",
            "_model_name": "HBoxModel",
            "_view_count": null,
            "_view_module": "@jupyter-widgets/controls",
            "_view_module_version": "1.5.0",
            "_view_name": "HBoxView",
            "box_style": "",
            "children": [
              "IPY_MODEL_8f8d120c51d741f999a247a9feaefe94",
              "IPY_MODEL_48bb8fa37b5d4d26bb25130a95ea87db",
              "IPY_MODEL_b74ea7764d9747af988171b82e66fa1e"
            ],
            "layout": "IPY_MODEL_651bdf23955a4e66b5a8dd6966fefe2b"
          }
        },
        "8f8d120c51d741f999a247a9feaefe94": {
          "model_module": "@jupyter-widgets/controls",
          "model_name": "HTMLModel",
          "model_module_version": "1.5.0",
          "state": {
            "_dom_classes": [],
            "_model_module": "@jupyter-widgets/controls",
            "_model_module_version": "1.5.0",
            "_model_name": "HTMLModel",
            "_view_count": null,
            "_view_module": "@jupyter-widgets/controls",
            "_view_module_version": "1.5.0",
            "_view_name": "HTMLView",
            "description": "",
            "description_tooltip": null,
            "layout": "IPY_MODEL_b563d6a7a94a491e9162129ef9ed1309",
            "placeholder": "​",
            "style": "IPY_MODEL_a02370d1cd3c4dcc9be338bd9ddcb8fe",
            "value": "Done! Use &#x27;show&#x27; commands to display/save.   "
          }
        },
        "48bb8fa37b5d4d26bb25130a95ea87db": {
          "model_module": "@jupyter-widgets/controls",
          "model_name": "FloatProgressModel",
          "model_module_version": "1.5.0",
          "state": {
            "_dom_classes": [],
            "_model_module": "@jupyter-widgets/controls",
            "_model_module_version": "1.5.0",
            "_model_name": "FloatProgressModel",
            "_view_count": null,
            "_view_module": "@jupyter-widgets/controls",
            "_view_module_version": "1.5.0",
            "_view_name": "ProgressView",
            "bar_style": "success",
            "description": "",
            "description_tooltip": null,
            "layout": "IPY_MODEL_074227f474694964bbfb07c9b48cf3eb",
            "max": 1,
            "min": 0,
            "orientation": "horizontal",
            "style": "IPY_MODEL_d09df82df67b402c988070fa782aa775",
            "value": 1
          }
        },
        "b74ea7764d9747af988171b82e66fa1e": {
          "model_module": "@jupyter-widgets/controls",
          "model_name": "HTMLModel",
          "model_module_version": "1.5.0",
          "state": {
            "_dom_classes": [],
            "_model_module": "@jupyter-widgets/controls",
            "_model_module_version": "1.5.0",
            "_model_name": "HTMLModel",
            "_view_count": null,
            "_view_module": "@jupyter-widgets/controls",
            "_view_module_version": "1.5.0",
            "_view_name": "HTMLView",
            "description": "",
            "description_tooltip": null,
            "layout": "IPY_MODEL_ce4bd35fb0a54702979f2b85d3949342",
            "placeholder": "​",
            "style": "IPY_MODEL_9e15ceb648f04e01a8a6b60a451f95a0",
            "value": " [100%]   00:00 -&gt; (00:00 left)"
          }
        },
        "651bdf23955a4e66b5a8dd6966fefe2b": {
          "model_module": "@jupyter-widgets/base",
          "model_name": "LayoutModel",
          "model_module_version": "1.2.0",
          "state": {
            "_model_module": "@jupyter-widgets/base",
            "_model_module_version": "1.2.0",
            "_model_name": "LayoutModel",
            "_view_count": null,
            "_view_module": "@jupyter-widgets/base",
            "_view_module_version": "1.2.0",
            "_view_name": "LayoutView",
            "align_content": null,
            "align_items": null,
            "align_self": null,
            "border": null,
            "bottom": null,
            "display": "inline-flex",
            "flex": null,
            "flex_flow": "row wrap",
            "grid_area": null,
            "grid_auto_columns": null,
            "grid_auto_flow": null,
            "grid_auto_rows": null,
            "grid_column": null,
            "grid_gap": null,
            "grid_row": null,
            "grid_template_areas": null,
            "grid_template_columns": null,
            "grid_template_rows": null,
            "height": null,
            "justify_content": null,
            "justify_items": null,
            "left": null,
            "margin": null,
            "max_height": null,
            "max_width": null,
            "min_height": null,
            "min_width": null,
            "object_fit": null,
            "object_position": null,
            "order": null,
            "overflow": null,
            "overflow_x": null,
            "overflow_y": null,
            "padding": null,
            "right": null,
            "top": null,
            "visibility": null,
            "width": "100%"
          }
        },
        "b563d6a7a94a491e9162129ef9ed1309": {
          "model_module": "@jupyter-widgets/base",
          "model_name": "LayoutModel",
          "model_module_version": "1.2.0",
          "state": {
            "_model_module": "@jupyter-widgets/base",
            "_model_module_version": "1.2.0",
            "_model_name": "LayoutModel",
            "_view_count": null,
            "_view_module": "@jupyter-widgets/base",
            "_view_module_version": "1.2.0",
            "_view_name": "LayoutView",
            "align_content": null,
            "align_items": null,
            "align_self": null,
            "border": null,
            "bottom": null,
            "display": null,
            "flex": null,
            "flex_flow": null,
            "grid_area": null,
            "grid_auto_columns": null,
            "grid_auto_flow": null,
            "grid_auto_rows": null,
            "grid_column": null,
            "grid_gap": null,
            "grid_row": null,
            "grid_template_areas": null,
            "grid_template_columns": null,
            "grid_template_rows": null,
            "height": null,
            "justify_content": null,
            "justify_items": null,
            "left": null,
            "margin": null,
            "max_height": null,
            "max_width": null,
            "min_height": null,
            "min_width": null,
            "object_fit": null,
            "object_position": null,
            "order": null,
            "overflow": null,
            "overflow_x": null,
            "overflow_y": null,
            "padding": null,
            "right": null,
            "top": null,
            "visibility": null,
            "width": null
          }
        },
        "a02370d1cd3c4dcc9be338bd9ddcb8fe": {
          "model_module": "@jupyter-widgets/controls",
          "model_name": "DescriptionStyleModel",
          "model_module_version": "1.5.0",
          "state": {
            "_model_module": "@jupyter-widgets/controls",
            "_model_module_version": "1.5.0",
            "_model_name": "DescriptionStyleModel",
            "_view_count": null,
            "_view_module": "@jupyter-widgets/base",
            "_view_module_version": "1.2.0",
            "_view_name": "StyleView",
            "description_width": ""
          }
        },
        "074227f474694964bbfb07c9b48cf3eb": {
          "model_module": "@jupyter-widgets/base",
          "model_name": "LayoutModel",
          "model_module_version": "1.2.0",
          "state": {
            "_model_module": "@jupyter-widgets/base",
            "_model_module_version": "1.2.0",
            "_model_name": "LayoutModel",
            "_view_count": null,
            "_view_module": "@jupyter-widgets/base",
            "_view_module_version": "1.2.0",
            "_view_name": "LayoutView",
            "align_content": null,
            "align_items": null,
            "align_self": null,
            "border": null,
            "bottom": null,
            "display": null,
            "flex": "2",
            "flex_flow": null,
            "grid_area": null,
            "grid_auto_columns": null,
            "grid_auto_flow": null,
            "grid_auto_rows": null,
            "grid_column": null,
            "grid_gap": null,
            "grid_row": null,
            "grid_template_areas": null,
            "grid_template_columns": null,
            "grid_template_rows": null,
            "height": null,
            "justify_content": null,
            "justify_items": null,
            "left": null,
            "margin": null,
            "max_height": null,
            "max_width": null,
            "min_height": null,
            "min_width": null,
            "object_fit": null,
            "object_position": null,
            "order": null,
            "overflow": null,
            "overflow_x": null,
            "overflow_y": null,
            "padding": null,
            "right": null,
            "top": null,
            "visibility": null,
            "width": null
          }
        },
        "d09df82df67b402c988070fa782aa775": {
          "model_module": "@jupyter-widgets/controls",
          "model_name": "ProgressStyleModel",
          "model_module_version": "1.5.0",
          "state": {
            "_model_module": "@jupyter-widgets/controls",
            "_model_module_version": "1.5.0",
            "_model_name": "ProgressStyleModel",
            "_view_count": null,
            "_view_module": "@jupyter-widgets/base",
            "_view_module_version": "1.2.0",
            "_view_name": "StyleView",
            "bar_color": null,
            "description_width": ""
          }
        },
        "ce4bd35fb0a54702979f2b85d3949342": {
          "model_module": "@jupyter-widgets/base",
          "model_name": "LayoutModel",
          "model_module_version": "1.2.0",
          "state": {
            "_model_module": "@jupyter-widgets/base",
            "_model_module_version": "1.2.0",
            "_model_name": "LayoutModel",
            "_view_count": null,
            "_view_module": "@jupyter-widgets/base",
            "_view_module_version": "1.2.0",
            "_view_name": "LayoutView",
            "align_content": null,
            "align_items": null,
            "align_self": null,
            "border": null,
            "bottom": null,
            "display": null,
            "flex": null,
            "flex_flow": null,
            "grid_area": null,
            "grid_auto_columns": null,
            "grid_auto_flow": null,
            "grid_auto_rows": null,
            "grid_column": null,
            "grid_gap": null,
            "grid_row": null,
            "grid_template_areas": null,
            "grid_template_columns": null,
            "grid_template_rows": null,
            "height": null,
            "justify_content": null,
            "justify_items": null,
            "left": null,
            "margin": null,
            "max_height": null,
            "max_width": null,
            "min_height": null,
            "min_width": null,
            "object_fit": null,
            "object_position": null,
            "order": null,
            "overflow": null,
            "overflow_x": null,
            "overflow_y": null,
            "padding": null,
            "right": null,
            "top": null,
            "visibility": null,
            "width": null
          }
        },
        "9e15ceb648f04e01a8a6b60a451f95a0": {
          "model_module": "@jupyter-widgets/controls",
          "model_name": "DescriptionStyleModel",
          "model_module_version": "1.5.0",
          "state": {
            "_model_module": "@jupyter-widgets/controls",
            "_model_module_version": "1.5.0",
            "_model_name": "DescriptionStyleModel",
            "_view_count": null,
            "_view_module": "@jupyter-widgets/base",
            "_view_module_version": "1.2.0",
            "_view_name": "StyleView",
            "description_width": ""
          }
        }
      }
    }
  },
  "cells": [
    {
      "cell_type": "markdown",
      "metadata": {
        "id": "view-in-github",
        "colab_type": "text"
      },
      "source": [
        "<a href=\"https://colab.research.google.com/github/rbutronelectrosof/Utilidades/blob/main/guarda_en_ftp_y_escribe_en_ftp_.ipynb\" target=\"_parent\"><img src=\"https://colab.research.google.com/assets/colab-badge.svg\" alt=\"Open In Colab\"/></a>"
      ]
    },
    {
      "cell_type": "code",
      "execution_count": null,
      "metadata": {
        "colab": {
          "base_uri": "https://localhost:8080/"
        },
        "id": "H66GIdCzgIc2",
        "outputId": "c33aa985-b8e3-439a-db74-7eaaa03df224"
      },
      "outputs": [
        {
          "output_type": "stream",
          "name": "stdout",
          "text": [
            "Drive already mounted at /content/drive/; to attempt to forcibly remount, call drive.mount(\"/content/drive/\", force_remount=True).\n"
          ]
        }
      ],
      "source": [
        "from google.colab import drive\n",
        "drive.mount(\"/content/drive/\")"
      ]
    },
    {
      "cell_type": "code",
      "source": [
        "pip install sweetviz"
      ],
      "metadata": {
        "colab": {
          "base_uri": "https://localhost:8080/"
        },
        "id": "9OdPKrXXFsHy",
        "outputId": "0531ce1f-680d-4daa-ca51-77def0e64e69"
      },
      "execution_count": null,
      "outputs": [
        {
          "output_type": "stream",
          "name": "stdout",
          "text": [
            "Requirement already satisfied: sweetviz in /usr/local/lib/python3.10/dist-packages (2.3.1)\n",
            "Requirement already satisfied: pandas!=1.0.0,!=1.0.1,!=1.0.2,>=0.25.3 in /usr/local/lib/python3.10/dist-packages (from sweetviz) (1.5.3)\n",
            "Requirement already satisfied: numpy>=1.16.0 in /usr/local/lib/python3.10/dist-packages (from sweetviz) (1.25.2)\n",
            "Requirement already satisfied: matplotlib>=3.1.3 in /usr/local/lib/python3.10/dist-packages (from sweetviz) (3.7.1)\n",
            "Requirement already satisfied: tqdm>=4.43.0 in /usr/local/lib/python3.10/dist-packages (from sweetviz) (4.66.2)\n",
            "Requirement already satisfied: scipy>=1.3.2 in /usr/local/lib/python3.10/dist-packages (from sweetviz) (1.11.4)\n",
            "Requirement already satisfied: jinja2>=2.11.1 in /usr/local/lib/python3.10/dist-packages (from sweetviz) (3.1.3)\n",
            "Requirement already satisfied: importlib-resources>=1.2.0 in /usr/local/lib/python3.10/dist-packages (from sweetviz) (6.3.2)\n",
            "Requirement already satisfied: MarkupSafe>=2.0 in /usr/local/lib/python3.10/dist-packages (from jinja2>=2.11.1->sweetviz) (2.1.5)\n",
            "Requirement already satisfied: contourpy>=1.0.1 in /usr/local/lib/python3.10/dist-packages (from matplotlib>=3.1.3->sweetviz) (1.2.0)\n",
            "Requirement already satisfied: cycler>=0.10 in /usr/local/lib/python3.10/dist-packages (from matplotlib>=3.1.3->sweetviz) (0.12.1)\n",
            "Requirement already satisfied: fonttools>=4.22.0 in /usr/local/lib/python3.10/dist-packages (from matplotlib>=3.1.3->sweetviz) (4.50.0)\n",
            "Requirement already satisfied: kiwisolver>=1.0.1 in /usr/local/lib/python3.10/dist-packages (from matplotlib>=3.1.3->sweetviz) (1.4.5)\n",
            "Requirement already satisfied: packaging>=20.0 in /usr/local/lib/python3.10/dist-packages (from matplotlib>=3.1.3->sweetviz) (24.0)\n",
            "Requirement already satisfied: pillow>=6.2.0 in /usr/local/lib/python3.10/dist-packages (from matplotlib>=3.1.3->sweetviz) (9.4.0)\n",
            "Requirement already satisfied: pyparsing>=2.3.1 in /usr/local/lib/python3.10/dist-packages (from matplotlib>=3.1.3->sweetviz) (3.1.2)\n",
            "Requirement already satisfied: python-dateutil>=2.7 in /usr/local/lib/python3.10/dist-packages (from matplotlib>=3.1.3->sweetviz) (2.8.2)\n",
            "Requirement already satisfied: pytz>=2020.1 in /usr/local/lib/python3.10/dist-packages (from pandas!=1.0.0,!=1.0.1,!=1.0.2,>=0.25.3->sweetviz) (2023.4)\n",
            "Requirement already satisfied: six>=1.5 in /usr/local/lib/python3.10/dist-packages (from python-dateutil>=2.7->matplotlib>=3.1.3->sweetviz) (1.16.0)\n"
          ]
        }
      ]
    },
    {
      "cell_type": "code",
      "execution_count": null,
      "metadata": {
        "id": "QxqvgEzYgM7C"
      },
      "outputs": [],
      "source": [
        "import pandas as pd\n",
        "import numpy as np\n",
        "import matplotlib.pyplot as plt\n",
        "import time\n",
        "from itertools import cycle\n",
        "import warnings\n",
        "warnings.filterwarnings('ignore')\n",
        "import  pylab  as  p\n",
        "import math\n",
        "import matplotlib.ticker as ticker\n",
        "import seaborn as sns #para kde\n",
        "from scipy.stats import gaussian_kde#para kde\n",
        "from matplotlib.ticker import MultipleLocator\n"
      ]
    },
    {
      "cell_type": "code",
      "execution_count": null,
      "metadata": {
        "id": "MwweNVDQgWlx"
      },
      "outputs": [],
      "source": [
        "file_path = \"/content/drive/MyDrive/delta/VentasPorCliente.csv\"\n",
        "#df1 = pd.read_csv(file_path, index_col=0)  # Assuming \"id\" is in the first column\n",
        "df1 = pd.read_csv(file_path, index_col=0, encoding='latin-1')  # Replace with the correct encoding\n",
        "#dfcumulo=df1[(df1[\"umag\"]<30) & (df1[\"gmag\"]<30) & (df1[\"rmag\"]<30) & (df1[\"imag\"]<30) & (df1[\"zmag\"]<30) ]\n",
        "#dfcumulo = dfcumulo.replace(0, pd.np.nan)# elimino los ceros de mi lista\n",
        "#dfcumulo.fillna(value=0, inplace=True)\n",
        "#dfcumulo.dropna(inplace=True)\n",
        "#dfcumulo = dfcumulo.dropna(axis=1) # filtra lo que tenga NameError\n",
        "\n",
        "#dfcumulo['u_r'] = dfcumulo['umag'] - dfcumulo['rmag']\n",
        "#dfcumulo['u_g'] = dfcumulo['umag'] - dfcumulo['gmag']\n",
        "#dfcumulo['g_r'] = dfcumulo['gmag'] - dfcumulo['rmag']\n",
        "#dfcumulo_limited = dfcumulo.iloc[:210] #limita los cumulos\n",
        "\n",
        "#dfcumulo.head()\n",
        "#print(dfcumulo)\n"
      ]
    },
    {
      "cell_type": "markdown",
      "source": [
        "## analisis exploratorio\n"
      ],
      "metadata": {
        "id": "I50g7vjeHvun"
      }
    },
    {
      "cell_type": "code",
      "source": [
        "# sweetviz es un paquete de análisis exploratorio automático\n",
        "import sweetviz as sv\n",
        "#analyzing the dataset\n",
        "advert_report = sv.analyze(df1)"
      ],
      "metadata": {
        "colab": {
          "base_uri": "https://localhost:8080/",
          "height": 49,
          "referenced_widgets": [
            "6d44e808761645d0bca0152ed96138e1",
            "8f8d120c51d741f999a247a9feaefe94",
            "48bb8fa37b5d4d26bb25130a95ea87db",
            "b74ea7764d9747af988171b82e66fa1e",
            "651bdf23955a4e66b5a8dd6966fefe2b",
            "b563d6a7a94a491e9162129ef9ed1309",
            "a02370d1cd3c4dcc9be338bd9ddcb8fe",
            "074227f474694964bbfb07c9b48cf3eb",
            "d09df82df67b402c988070fa782aa775",
            "ce4bd35fb0a54702979f2b85d3949342",
            "9e15ceb648f04e01a8a6b60a451f95a0"
          ]
        },
        "id": "3mZ7zfvgFGr2",
        "outputId": "96f8f528-0256-4cbf-a739-2883deada89b"
      },
      "execution_count": null,
      "outputs": [
        {
          "output_type": "display_data",
          "data": {
            "text/plain": [
              "                                             |          | [  0%]   00:00 -> (? left)"
            ],
            "application/vnd.jupyter.widget-view+json": {
              "version_major": 2,
              "version_minor": 0,
              "model_id": "6d44e808761645d0bca0152ed96138e1"
            }
          },
          "metadata": {}
        }
      ]
    },
    {
      "cell_type": "markdown",
      "source": [
        "##imprime en html"
      ],
      "metadata": {
        "id": "PYltR1PgH0CR"
      }
    },
    {
      "cell_type": "code",
      "source": [
        "advert_report.show_html('df.html')"
      ],
      "metadata": {
        "colab": {
          "base_uri": "https://localhost:8080/"
        },
        "id": "njGGULmzFHqC",
        "outputId": "7cc7df99-c0c1-4d61-b692-faaac3f9ac94"
      },
      "execution_count": null,
      "outputs": [
        {
          "output_type": "stream",
          "name": "stdout",
          "text": [
            "Report df.html was generated! NOTEBOOK/COLAB USERS: the web browser MAY not pop up, regardless, the report IS saved in your notebook/colab files.\n"
          ]
        }
      ]
    },
    {
      "cell_type": "code",
      "source": [
        "import os\n",
        "import ftplib\n",
        "import time\n",
        "\n",
        "FieldID = 1\n",
        "#Límite de cantidad de bajadas\n",
        "limit = 10000\n",
        "#puedo poner en ofset la última bajada\n",
        "offset = 0\n",
        "last_offset = 0\n",
        "\n",
        "# Información de conexión FTP\n",
        "host = \"tienda.electrosof.com.ar\"\n",
        "usuario = \"roberto\"\n",
        "contraseña = \"Laplata1081\"\n",
        "\n",
        "# Nombre del archivo CSV\n",
        "filename = os.path.join( f'database{FieldID}_{offset}.csv')\n",
        "\n",
        "# Conexión al servidor FTP\n",
        "ftp = ftplib.FTP(host, usuario, contraseña)\n",
        "\n",
        "# Navegación a la carpeta\n",
        "ftp.cwd(\"/prueba\")\n",
        "\n",
        "\n",
        "# Analiza la cadena CSV y crea un DataFrame\n",
        "#dfcumulo = pd.read_csv(StringIO(csv_data))  # StringIO crea un objeto similar a un archivo en memoria\n",
        "\n",
        "# Comprueba si df contiene datos (opcional)\n",
        "print(dfcumulo)\n",
        "\n",
        "filename = os.path.join(f'database{FieldID}_{offset}.csv')\n",
        "\n",
        "# Crea el archivo CSV localmente\n",
        "with open(filename, \"w\") as file:\n",
        "     dfcumulo.to_csv(file)\n",
        "\n",
        "# Ahora sube el archivo CSV creado\n",
        "with open(filename, \"rb\") as file:\n",
        "     ftp.storbinary(f\"STOR {filename}\", file)\n",
        "\n",
        "# Cierra la conexión después del bucle\n",
        "ftp.quit()\n",
        "\n",
        "\n",
        "#print(df)\n",
        "print(filename)"
      ],
      "metadata": {
        "colab": {
          "base_uri": "https://localhost:8080/"
        },
        "id": "NVku2av77u4_",
        "outputId": "c46c80c8-e095-40a1-e11a-1bd498c5249a"
      },
      "execution_count": null,
      "outputs": [
        {
          "output_type": "stream",
          "name": "stdout",
          "text": [
            "           MH  logAge      Mini   int_IMF   Mass   logL   logTe   logg  label  \\\n",
            "Zini                                                                            \n",
            "0.000155 -2.0    9.21  0.093634  1.115611  0.094 -3.053  3.5126  5.464    0.0   \n",
            "0.000155 -2.0    9.21  0.093711  1.116313  0.094 -3.051  3.5129  5.464    0.0   \n",
            "0.000155 -2.0    9.21  0.096812  1.143912  0.097 -2.959  3.5257  5.437    0.0   \n",
            "0.000155 -2.0    9.21  0.097900  1.153321  0.098 -2.927  3.5302  5.428    0.0   \n",
            "0.000155 -2.0    9.21  0.098801  1.161008  0.099 -2.900  3.5340  5.420    0.0   \n",
            "...       ...     ...       ...       ...    ...    ...     ...    ...    ...   \n",
            "0.000155 -2.0    9.21  1.520470  2.540545  0.880  3.587  3.6043  0.164    8.0   \n",
            "0.000155 -2.0    9.21  1.520477  2.540545  0.841  3.668  3.5942  0.024    8.0   \n",
            "0.000155 -2.0    9.21  1.520485  2.540546  0.799  3.710  3.5873 -0.069    8.0   \n",
            "0.000155 -2.0    9.21  1.520495  2.540547  0.753  3.730  3.5825 -0.133    8.0   \n",
            "0.000155 -2.0    9.21  1.520505  2.540548  0.705  3.740  3.5784 -0.188    8.0   \n",
            "\n",
            "          McoreTP  ...         Z  mbolmag    umag    gmag    rmag    imag  \\\n",
            "Zini               ...                                                      \n",
            "0.000155    0.000  ...  0.000164   12.402  19.152  15.277  13.323  12.332   \n",
            "0.000155    0.000  ...  0.000164   12.397  19.134  15.266  13.314  12.326   \n",
            "0.000155    0.000  ...  0.000164   12.167  18.397  14.822  12.951  12.082   \n",
            "0.000155    0.000  ...  0.000164   12.087  18.144  14.666  12.826  11.996   \n",
            "0.000155    0.000  ...  0.000164   12.019  17.931  14.534  12.724  11.923   \n",
            "...           ...  ...       ...      ...     ...     ...     ...     ...   \n",
            "0.000155    0.588  ...  0.001111   -4.198   0.894  -2.484  -3.814  -4.204   \n",
            "0.000155    0.589  ...  0.001221   -4.399   1.110  -2.514  -3.926  -4.351   \n",
            "0.000155    0.590  ...  0.001347   -4.506   1.245  -2.486  -3.943  -4.391   \n",
            "0.000155    0.591  ...  0.001490   -4.554   1.402  -2.403  -3.896  -4.367   \n",
            "0.000155    0.592  ...  0.001651   -4.580   1.843  -2.109  -3.681  -4.199   \n",
            "\n",
            "            zmag    u_r    u_g    g_r  \n",
            "Zini                                   \n",
            "0.000155  11.792  5.829  3.875  1.954  \n",
            "0.000155  11.787  5.820  3.868  1.952  \n",
            "0.000155  11.590  5.446  3.575  1.871  \n",
            "0.000155  11.520  5.318  3.478  1.840  \n",
            "0.000155  11.460  5.207  3.397  1.810  \n",
            "...          ...    ...    ...    ...  \n",
            "0.000155  -4.520  4.708  3.378  1.330  \n",
            "0.000155  -4.701  5.036  3.624  1.412  \n",
            "0.000155  -4.767  5.188  3.731  1.457  \n",
            "0.000155  -4.764  5.298  3.805  1.493  \n",
            "0.000155  -4.634  5.524  3.952  1.572  \n",
            "\n",
            "[278 rows x 35 columns]\n",
            "database1_0.csv\n"
          ]
        }
      ]
    }
  ]
}